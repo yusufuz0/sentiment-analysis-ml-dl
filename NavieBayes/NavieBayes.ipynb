{
 "cells": [
  {
   "cell_type": "code",
   "execution_count": 1,
   "metadata": {
    "colab": {
     "base_uri": "https://localhost:8080/"
    },
    "executionInfo": {
     "elapsed": 23115,
     "status": "ok",
     "timestamp": 1720002220328,
     "user": {
      "displayName": "Yusuf Uz",
      "userId": "08968270657126802216"
     },
     "user_tz": -180
    },
    "id": "vJZc2XkHidD6",
    "outputId": "f6b1aa45-0da2-47b0-c99e-67bcbb19fee9"
   },
   "outputs": [
    {
     "name": "stdout",
     "output_type": "stream",
     "text": [
      "Mounted at /content/drive\n"
     ]
    }
   ],
   "source": [
    "from google.colab import drive\n",
    "drive.mount('/content/drive')"
   ]
  },
  {
   "cell_type": "code",
   "execution_count": 2,
   "metadata": {
    "executionInfo": {
     "elapsed": 3625,
     "status": "ok",
     "timestamp": 1720002227258,
     "user": {
      "displayName": "Yusuf Uz",
      "userId": "08968270657126802216"
     },
     "user_tz": -180
    },
    "id": "kbnIvh4Fp6U2"
   },
   "outputs": [],
   "source": [
    "import pandas as pd\n",
    "import re\n",
    "from sklearn.feature_extraction.text import TfidfVectorizer\n",
    "from sklearn.model_selection import train_test_split\n",
    "from sklearn.naive_bayes import MultinomialNB\n",
    "from sklearn.metrics import accuracy_score, classification_report"
   ]
  },
  {
   "cell_type": "code",
   "execution_count": null,
   "metadata": {
    "id": "N5N1yxYap9tW"
   },
   "outputs": [],
   "source": [
    "# Veri setini yükleme\n",
    "data_path ='/content/drive/My Drive/tweet_emotions.csv'\n",
    "df = pd.read_csv(data_path)"
   ]
  },
  {
   "cell_type": "code",
   "execution_count": null,
   "metadata": {
    "colab": {
     "base_uri": "https://localhost:8080/"
    },
    "executionInfo": {
     "elapsed": 348,
     "status": "ok",
     "timestamp": 1719071758806,
     "user": {
      "displayName": "Yusuf Uz",
      "userId": "08968270657126802216"
     },
     "user_tz": -180
    },
    "id": "yMJH3XHup9v4",
    "outputId": "637167d4-af17-4e04-a2d9-c40fef9b199c"
   },
   "outputs": [
    {
     "name": "stdout",
     "output_type": "stream",
     "text": [
      "     tweet_id   sentiment                                            content\n",
      "0  1956967341       empty  @tiffanylue i know  i was listenin to bad habi...\n",
      "1  1956967666     sadness  Layin n bed with a headache  ughhhh...waitin o...\n",
      "2  1956967696     sadness                Funeral ceremony...gloomy friday...\n",
      "3  1956967789  enthusiasm               wants to hang out with friends SOON!\n",
      "4  1956968416     neutral  @dannycastillo We want to trade with someone w...\n"
     ]
    }
   ],
   "source": [
    "# Veri setini inceleme\n",
    "print(df.head())"
   ]
  },
  {
   "cell_type": "code",
   "execution_count": null,
   "metadata": {
    "colab": {
     "base_uri": "https://localhost:8080/"
    },
    "executionInfo": {
     "elapsed": 375,
     "status": "ok",
     "timestamp": 1719071765348,
     "user": {
      "displayName": "Yusuf Uz",
      "userId": "08968270657126802216"
     },
     "user_tz": -180
    },
    "id": "h3AcYJvyp9yS",
    "outputId": "06da4ef0-2da4-4eb1-9970-f680701dd6de"
   },
   "outputs": [
    {
     "data": {
      "text/plain": [
       "sentiment\n",
       "neutral       8638\n",
       "worry         8459\n",
       "happiness     5209\n",
       "sadness       5165\n",
       "love          3842\n",
       "surprise      2187\n",
       "fun           1776\n",
       "relief        1526\n",
       "hate          1323\n",
       "empty          827\n",
       "enthusiasm     759\n",
       "boredom        179\n",
       "anger          110\n",
       "Name: count, dtype: int64"
      ]
     },
     "execution_count": 8,
     "metadata": {},
     "output_type": "execute_result"
    }
   ],
   "source": [
    "# Duygu dağılımını inceleyin\n",
    "df['sentiment'].value_counts()"
   ]
  },
  {
   "cell_type": "code",
   "execution_count": null,
   "metadata": {
    "id": "VDjXDMS9p91U"
   },
   "outputs": [],
   "source": [
    "df = df[(df['sentiment'] != 'anger')\n",
    " & (df['sentiment'] != 'boredom')\n",
    " &(df['sentiment'] != 'enthusiasm')\n",
    " & (df['sentiment'] != 'empty')\n",
    " & (df['sentiment'] != 'relief')\n",
    " & (df['sentiment'] != 'fun')\n",
    " & (df['sentiment'] != 'love')]"
   ]
  },
  {
   "cell_type": "code",
   "execution_count": null,
   "metadata": {
    "colab": {
     "base_uri": "https://localhost:8080/"
    },
    "executionInfo": {
     "elapsed": 375,
     "status": "ok",
     "timestamp": 1719071813043,
     "user": {
      "displayName": "Yusuf Uz",
      "userId": "08968270657126802216"
     },
     "user_tz": -180
    },
    "id": "nhTrJfYip94s",
    "outputId": "1971f880-9b84-48cc-e2ef-c1eb41294f4c"
   },
   "outputs": [
    {
     "data": {
      "text/plain": [
       "sentiment\n",
       "neutral      8638\n",
       "worry        8459\n",
       "happiness    5209\n",
       "sadness      5165\n",
       "surprise     2187\n",
       "hate         1323\n",
       "Name: count, dtype: int64"
      ]
     },
     "execution_count": 10,
     "metadata": {},
     "output_type": "execute_result"
    }
   ],
   "source": [
    "# Duygu dağılımını inceleyin\n",
    "df['sentiment'].value_counts()"
   ]
  },
  {
   "cell_type": "code",
   "execution_count": null,
   "metadata": {
    "colab": {
     "base_uri": "https://localhost:8080/"
    },
    "executionInfo": {
     "elapsed": 1371,
     "status": "ok",
     "timestamp": 1719071832707,
     "user": {
      "displayName": "Yusuf Uz",
      "userId": "08968270657126802216"
     },
     "user_tz": -180
    },
    "id": "Usay2Zopp97b",
    "outputId": "83f6b406-b3d0-48ea-bd22-70761ceea03f"
   },
   "outputs": [
    {
     "name": "stderr",
     "output_type": "stream",
     "text": [
      "[nltk_data] Downloading package stopwords to /root/nltk_data...\n",
      "[nltk_data]   Unzipping corpora/stopwords.zip.\n"
     ]
    }
   ],
   "source": [
    "import re\n",
    "import nltk\n",
    "nltk.download('stopwords')\n",
    "from nltk.corpus import stopwordsS"
   ]
  },
  {
   "cell_type": "code",
   "execution_count": null,
   "metadata": {
    "id": "NOxkRghwp9-D"
   },
   "outputs": [],
   "source": [
    "stop_words = set(stopwords.words('english'))"
   ]
  },
  {
   "cell_type": "code",
   "execution_count": null,
   "metadata": {
    "id": "SlbDr2sop-A7"
   },
   "outputs": [],
   "source": [
    "def clean_text(text):\n",
    "    # Küçük harfe çevir\n",
    "    text = text.lower()\n",
    "    # URL'leri kaldır\n",
    "    text = re.sub(r'http\\S+|www\\S+|https\\S+', '', text, flags=re.MULTILINE)\n",
    "    # Özel karakterleri ve sayıları kaldır\n",
    "    text = re.sub(r'\\@\\w+|\\#','', text)\n",
    "    text = re.sub(r'\\d+', '', text)\n",
    "    # Noktalama işaretlerini kaldır\n",
    "    text = re.sub(r'[^\\w\\s]', '', text)\n",
    "    # Durak kelimeleri kaldır\n",
    "    text = ' '.join([word for word in text.split() if word not in stop_words])\n",
    "    return text\n",
    "\n",
    "# Metin verisini temizleyin\n",
    "df['content'] = df['content'].apply(clean_text)"
   ]
  },
  {
   "cell_type": "code",
   "execution_count": null,
   "metadata": {
    "id": "nHAXR14np-Du"
   },
   "outputs": [],
   "source": [
    "data_neu = df.query('sentiment == \"neutral\"')[:1300]\n",
    "data_wor = df.query('sentiment == \"worry\"')[:1300]\n",
    "data_hap = df.query('sentiment == \"happiness\"')[:1300]\n",
    "data_sad = df.query('sentiment == \"sadness\"')[:1300]\n",
    "data_sup = df.query('sentiment == \"surprise\"')[:1300]\n",
    "data_hat = df.query('sentiment == \"hate\"')[:1300]\n",
    "\n",
    "df = pd.concat([ data_neu, data_wor, data_hap, data_sad, data_sup, data_hat])"
   ]
  },
  {
   "cell_type": "code",
   "execution_count": null,
   "metadata": {
    "colab": {
     "base_uri": "https://localhost:8080/"
    },
    "executionInfo": {
     "elapsed": 4,
     "status": "ok",
     "timestamp": 1719071911947,
     "user": {
      "displayName": "Yusuf Uz",
      "userId": "08968270657126802216"
     },
     "user_tz": -180
    },
    "id": "xUquD8Vpp-Gb",
    "outputId": "a1c564bb-a66e-412b-f826-c5ed3a97fe93"
   },
   "outputs": [
    {
     "data": {
      "text/plain": [
       "7800"
      ]
     },
     "execution_count": 17,
     "metadata": {},
     "output_type": "execute_result"
    }
   ],
   "source": [
    "df.shape[0]"
   ]
  },
  {
   "cell_type": "code",
   "execution_count": null,
   "metadata": {
    "colab": {
     "base_uri": "https://localhost:8080/"
    },
    "executionInfo": {
     "elapsed": 3,
     "status": "ok",
     "timestamp": 1719071926537,
     "user": {
      "displayName": "Yusuf Uz",
      "userId": "08968270657126802216"
     },
     "user_tz": -180
    },
    "id": "0J2wQg3Vp-Jy",
    "outputId": "767aa182-6e28-4459-c22f-ee6823b549a1"
   },
   "outputs": [
    {
     "data": {
      "text/plain": [
       "sentiment\n",
       "neutral      1300\n",
       "worry        1300\n",
       "happiness    1300\n",
       "sadness      1300\n",
       "surprise     1300\n",
       "hate         1300\n",
       "Name: count, dtype: int64"
      ]
     },
     "execution_count": 18,
     "metadata": {},
     "output_type": "execute_result"
    }
   ],
   "source": [
    "# Duygu dağılımını inceleyin\n",
    "df['sentiment'].value_counts()"
   ]
  },
  {
   "cell_type": "code",
   "execution_count": null,
   "metadata": {
    "id": "LaGo3HJLp-M8"
   },
   "outputs": [],
   "source": [
    "# TF-IDF vektörlerine dönüştürme\n",
    "tfidf_vectorizer = TfidfVectorizer(stop_words='english')\n",
    "X = tfidf_vectorizer.fit_transform(df['content'])\n",
    "y = df['sentiment']"
   ]
  },
  {
   "cell_type": "code",
   "execution_count": null,
   "metadata": {
    "id": "I3dK1C8Vp-Pk"
   },
   "outputs": [],
   "source": [
    "# Veriyi eğitim ve test setlerine ayırma\n",
    "X_train, X_test, y_train, y_test = train_test_split(X, y, test_size=0.2, random_state=42)"
   ]
  },
  {
   "cell_type": "code",
   "execution_count": null,
   "metadata": {
    "colab": {
     "base_uri": "https://localhost:8080/",
     "height": 74
    },
    "executionInfo": {
     "elapsed": 380,
     "status": "ok",
     "timestamp": 1719072033068,
     "user": {
      "displayName": "Yusuf Uz",
      "userId": "08968270657126802216"
     },
     "user_tz": -180
    },
    "id": "2FtYQOIEp-SL",
    "outputId": "23fead44-b681-476d-ea8b-c809564fc1d5"
   },
   "outputs": [
    {
     "data": {
      "text/html": [
       "<style>#sk-container-id-1 {color: black;background-color: white;}#sk-container-id-1 pre{padding: 0;}#sk-container-id-1 div.sk-toggleable {background-color: white;}#sk-container-id-1 label.sk-toggleable__label {cursor: pointer;display: block;width: 100%;margin-bottom: 0;padding: 0.3em;box-sizing: border-box;text-align: center;}#sk-container-id-1 label.sk-toggleable__label-arrow:before {content: \"▸\";float: left;margin-right: 0.25em;color: #696969;}#sk-container-id-1 label.sk-toggleable__label-arrow:hover:before {color: black;}#sk-container-id-1 div.sk-estimator:hover label.sk-toggleable__label-arrow:before {color: black;}#sk-container-id-1 div.sk-toggleable__content {max-height: 0;max-width: 0;overflow: hidden;text-align: left;background-color: #f0f8ff;}#sk-container-id-1 div.sk-toggleable__content pre {margin: 0.2em;color: black;border-radius: 0.25em;background-color: #f0f8ff;}#sk-container-id-1 input.sk-toggleable__control:checked~div.sk-toggleable__content {max-height: 200px;max-width: 100%;overflow: auto;}#sk-container-id-1 input.sk-toggleable__control:checked~label.sk-toggleable__label-arrow:before {content: \"▾\";}#sk-container-id-1 div.sk-estimator input.sk-toggleable__control:checked~label.sk-toggleable__label {background-color: #d4ebff;}#sk-container-id-1 div.sk-label input.sk-toggleable__control:checked~label.sk-toggleable__label {background-color: #d4ebff;}#sk-container-id-1 input.sk-hidden--visually {border: 0;clip: rect(1px 1px 1px 1px);clip: rect(1px, 1px, 1px, 1px);height: 1px;margin: -1px;overflow: hidden;padding: 0;position: absolute;width: 1px;}#sk-container-id-1 div.sk-estimator {font-family: monospace;background-color: #f0f8ff;border: 1px dotted black;border-radius: 0.25em;box-sizing: border-box;margin-bottom: 0.5em;}#sk-container-id-1 div.sk-estimator:hover {background-color: #d4ebff;}#sk-container-id-1 div.sk-parallel-item::after {content: \"\";width: 100%;border-bottom: 1px solid gray;flex-grow: 1;}#sk-container-id-1 div.sk-label:hover label.sk-toggleable__label {background-color: #d4ebff;}#sk-container-id-1 div.sk-serial::before {content: \"\";position: absolute;border-left: 1px solid gray;box-sizing: border-box;top: 0;bottom: 0;left: 50%;z-index: 0;}#sk-container-id-1 div.sk-serial {display: flex;flex-direction: column;align-items: center;background-color: white;padding-right: 0.2em;padding-left: 0.2em;position: relative;}#sk-container-id-1 div.sk-item {position: relative;z-index: 1;}#sk-container-id-1 div.sk-parallel {display: flex;align-items: stretch;justify-content: center;background-color: white;position: relative;}#sk-container-id-1 div.sk-item::before, #sk-container-id-1 div.sk-parallel-item::before {content: \"\";position: absolute;border-left: 1px solid gray;box-sizing: border-box;top: 0;bottom: 0;left: 50%;z-index: -1;}#sk-container-id-1 div.sk-parallel-item {display: flex;flex-direction: column;z-index: 1;position: relative;background-color: white;}#sk-container-id-1 div.sk-parallel-item:first-child::after {align-self: flex-end;width: 50%;}#sk-container-id-1 div.sk-parallel-item:last-child::after {align-self: flex-start;width: 50%;}#sk-container-id-1 div.sk-parallel-item:only-child::after {width: 0;}#sk-container-id-1 div.sk-dashed-wrapped {border: 1px dashed gray;margin: 0 0.4em 0.5em 0.4em;box-sizing: border-box;padding-bottom: 0.4em;background-color: white;}#sk-container-id-1 div.sk-label label {font-family: monospace;font-weight: bold;display: inline-block;line-height: 1.2em;}#sk-container-id-1 div.sk-label-container {text-align: center;}#sk-container-id-1 div.sk-container {/* jupyter's `normalize.less` sets `[hidden] { display: none; }` but bootstrap.min.css set `[hidden] { display: none !important; }` so we also need the `!important` here to be able to override the default hidden behavior on the sphinx rendered scikit-learn.org. See: https://github.com/scikit-learn/scikit-learn/issues/21755 */display: inline-block !important;position: relative;}#sk-container-id-1 div.sk-text-repr-fallback {display: none;}</style><div id=\"sk-container-id-1\" class=\"sk-top-container\"><div class=\"sk-text-repr-fallback\"><pre>MultinomialNB()</pre><b>In a Jupyter environment, please rerun this cell to show the HTML representation or trust the notebook. <br />On GitHub, the HTML representation is unable to render, please try loading this page with nbviewer.org.</b></div><div class=\"sk-container\" hidden><div class=\"sk-item\"><div class=\"sk-estimator sk-toggleable\"><input class=\"sk-toggleable__control sk-hidden--visually\" id=\"sk-estimator-id-1\" type=\"checkbox\" checked><label for=\"sk-estimator-id-1\" class=\"sk-toggleable__label sk-toggleable__label-arrow\">MultinomialNB</label><div class=\"sk-toggleable__content\"><pre>MultinomialNB()</pre></div></div></div></div></div>"
      ],
      "text/plain": [
       "MultinomialNB()"
      ]
     },
     "execution_count": 22,
     "metadata": {},
     "output_type": "execute_result"
    }
   ],
   "source": [
    "# Naive Bayes modelini oluşturma ve eğitme\n",
    "nb_model = MultinomialNB()\n",
    "nb_model.fit(X_train, y_train)"
   ]
  },
  {
   "cell_type": "code",
   "execution_count": null,
   "metadata": {
    "colab": {
     "base_uri": "https://localhost:8080/"
    },
    "executionInfo": {
     "elapsed": 365,
     "status": "ok",
     "timestamp": 1719072208637,
     "user": {
      "displayName": "Yusuf Uz",
      "userId": "08968270657126802216"
     },
     "user_tz": -180
    },
    "id": "7RzsLZClrbRs",
    "outputId": "30a6631c-305c-4d75-9f10-b92059d84402"
   },
   "outputs": [
    {
     "name": "stdout",
     "output_type": "stream",
     "text": [
      "Accuracy: 0.325\n",
      "Classification Report:\n",
      "               precision    recall  f1-score   support\n",
      "\n",
      "   happiness       0.36      0.47      0.41       252\n",
      "        hate       0.41      0.41      0.41       252\n",
      "     neutral       0.26      0.16      0.20       272\n",
      "     sadness       0.32      0.36      0.34       259\n",
      "    surprise       0.29      0.28      0.28       254\n",
      "       worry       0.28      0.28      0.28       271\n",
      "\n",
      "    accuracy                           0.33      1560\n",
      "   macro avg       0.32      0.33      0.32      1560\n",
      "weighted avg       0.32      0.33      0.32      1560\n",
      "\n"
     ]
    }
   ],
   "source": [
    "# Modeli test etme\n",
    "y_pred = nb_model.predict(X_test)\n",
    "# Modelin performansını değerlendirme\n",
    "accuracy = accuracy_score(y_test, y_pred)\n",
    "report = classification_report(y_test, y_pred)\n",
    "print(f\"Accuracy: {accuracy}\")\n",
    "print(\"Classification Report:\\n\", report)"
   ]
  },
  {
   "cell_type": "code",
   "execution_count": null,
   "metadata": {
    "colab": {
     "base_uri": "https://localhost:8080/"
    },
    "executionInfo": {
     "elapsed": 479,
     "status": "ok",
     "timestamp": 1719072692610,
     "user": {
      "displayName": "Yusuf Uz",
      "userId": "08968270657126802216"
     },
     "user_tz": -180
    },
    "id": "Snft3pj_rbUe",
    "outputId": "15d6d3dd-665d-47fe-bf6d-d94078914ef1"
   },
   "outputs": [
    {
     "data": {
      "text/plain": [
       "['/content/drive/My Drive/Colab Notebooks/YapayZekaDonemSonuUygulaması(Emotion detection from text)/NavieBayes/tfidf_vectorizer.joblib']"
      ]
     },
     "execution_count": 31,
     "metadata": {},
     "output_type": "execute_result"
    }
   ],
   "source": [
    "import joblib\n",
    "\n",
    "# Modeli ve vektörleştiriciyi kaydetme\n",
    "joblib.dump(nb_model, '/content/drive/My Drive/NavieBayes/NB_model.joblib')\n",
    "joblib.dump(tfidf_vectorizer, '/content/drive/My Drive/NavieBayes/tfidf_vectorizer.joblib')\n"
   ]
  },
  {
   "cell_type": "code",
   "execution_count": null,
   "metadata": {
    "executionInfo": {
     "elapsed": 1631,
     "status": "ok",
     "timestamp": 1720002241998,
     "user": {
      "displayName": "Yusuf Uz",
      "userId": "08968270657126802216"
     },
     "user_tz": -180
    },
    "id": "AHShLZdtrbW6"
   },
   "outputs": [],
   "source": [
    "import joblib\n",
    "# Modeli ve vektörleştiriciyi yükleme\n",
    "loaded_model = joblib.load('/content/drive/My Drive/NavieBayes/NB_model.joblib')\n",
    "loaded_tfidf_vectorizer = joblib.load('/content/drive/My Drive/NavieBayes/tfidf_vectorizer.joblib')"
   ]
  },
  {
   "cell_type": "code",
   "execution_count": 4,
   "metadata": {
    "colab": {
     "base_uri": "https://localhost:8080/"
    },
    "executionInfo": {
     "elapsed": 4,
     "status": "ok",
     "timestamp": 1720002244400,
     "user": {
      "displayName": "Yusuf Uz",
      "userId": "08968270657126802216"
     },
     "user_tz": -180
    },
    "id": "9sPak35Fp-XD",
    "outputId": "d90df974-221f-40d5-bb56-ca98f346267c"
   },
   "outputs": [
    {
     "name": "stdout",
     "output_type": "stream",
     "text": [
      "happiness\n"
     ]
    }
   ],
   "source": [
    "# Örnek metinleri sınıflandırma\n",
    "text = \"the weather is very nice today\"\n",
    "# Metinleri TF-IDF vektörlerine dönüştürme\n",
    "text_vector = loaded_tfidf_vectorizer.transform([text])\n",
    "# Metinleri sınıflandırma\n",
    "sentiment = loaded_model.predict(text_vector)[0]\n",
    "print(sentiment)\n"
   ]
  },
  {
   "cell_type": "code",
   "execution_count": 5,
   "metadata": {
    "colab": {
     "base_uri": "https://localhost:8080/"
    },
    "executionInfo": {
     "elapsed": 336,
     "status": "ok",
     "timestamp": 1720002247015,
     "user": {
      "displayName": "Yusuf Uz",
      "userId": "08968270657126802216"
     },
     "user_tz": -180
    },
    "id": "WoSJmPaDulU5",
    "outputId": "f689ec89-e8e2-4aa8-a49a-7ccb9116dbf0"
   },
   "outputs": [
    {
     "name": "stdout",
     "output_type": "stream",
     "text": [
      "happiness\n"
     ]
    }
   ],
   "source": [
    "# Örnek metinleri sınıflandırma\n",
    "text = \"very nice product\"\n",
    "# Metinleri TF-IDF vektörlerine dönüştürme\n",
    "text_vector = loaded_tfidf_vectorizer.transform([text])\n",
    "# Metinleri sınıflandırma\n",
    "sentiment = loaded_model.predict(text_vector)[0]\n",
    "print(sentiment)"
   ]
  },
  {
   "cell_type": "code",
   "execution_count": 6,
   "metadata": {
    "colab": {
     "base_uri": "https://localhost:8080/"
    },
    "executionInfo": {
     "elapsed": 449,
     "status": "ok",
     "timestamp": 1720002248650,
     "user": {
      "displayName": "Yusuf Uz",
      "userId": "08968270657126802216"
     },
     "user_tz": -180
    },
    "id": "KKZUUyUIulXY",
    "outputId": "f35273e8-841c-4755-beba-5ffd04afedf4"
   },
   "outputs": [
    {
     "name": "stdout",
     "output_type": "stream",
     "text": [
      "worry\n"
     ]
    }
   ],
   "source": [
    "# Örnek metinleri sınıflandırma\n",
    "text = \"My stomach hurt from laughing\"\n",
    "# Metinleri TF-IDF vektörlerine dönüştürme\n",
    "text_vector = loaded_tfidf_vectorizer.transform([text])\n",
    "# Metinleri sınıflandırma\n",
    "sentiment = loaded_model.predict(text_vector)[0]\n",
    "print(sentiment)"
   ]
  },
  {
   "cell_type": "code",
   "execution_count": 7,
   "metadata": {
    "colab": {
     "base_uri": "https://localhost:8080/"
    },
    "executionInfo": {
     "elapsed": 373,
     "status": "ok",
     "timestamp": 1720002250401,
     "user": {
      "displayName": "Yusuf Uz",
      "userId": "08968270657126802216"
     },
     "user_tz": -180
    },
    "id": "dLLz8J20ulZA",
    "outputId": "65a4a127-efa8-481b-e79c-404ef2ea5811"
   },
   "outputs": [
    {
     "name": "stdout",
     "output_type": "stream",
     "text": [
      "happiness\n"
     ]
    }
   ],
   "source": [
    "# Örnek metinleri sınıflandırma\n",
    "text = \"Happy Mothers Day mummy!\"\n",
    "# Metinleri TF-IDF vektörlerine dönüştürme\n",
    "text_vector = loaded_tfidf_vectorizer.transform([text])\n",
    "# Metinleri sınıflandırma\n",
    "sentiment = loaded_model.predict(text_vector)[0]\n",
    "print(sentiment)"
   ]
  },
  {
   "cell_type": "code",
   "execution_count": 8,
   "metadata": {
    "colab": {
     "base_uri": "https://localhost:8080/"
    },
    "executionInfo": {
     "elapsed": 4,
     "status": "ok",
     "timestamp": 1720002252089,
     "user": {
      "displayName": "Yusuf Uz",
      "userId": "08968270657126802216"
     },
     "user_tz": -180
    },
    "id": "5jlqPSihuPZs",
    "outputId": "ddbfae0c-2517-4170-c13c-29abea65146e"
   },
   "outputs": [
    {
     "name": "stdout",
     "output_type": "stream",
     "text": [
      "happiness\n"
     ]
    }
   ],
   "source": [
    "# Örnek metinleri sınıflandırma\n",
    "text = \"Bugün harika bir gün!\"\n",
    "# Metinleri TF-IDF vektörlerine dönüştürme\n",
    "text_vector = loaded_tfidf_vectorizer.transform([text])\n",
    "# Metinleri sınıflandırma\n",
    "sentiment = loaded_model.predict(text_vector)[0]\n",
    "print(sentiment)"
   ]
  },
  {
   "cell_type": "code",
   "execution_count": 9,
   "metadata": {
    "colab": {
     "base_uri": "https://localhost:8080/"
    },
    "executionInfo": {
     "elapsed": 307,
     "status": "ok",
     "timestamp": 1720002254796,
     "user": {
      "displayName": "Yusuf Uz",
      "userId": "08968270657126802216"
     },
     "user_tz": -180
    },
    "id": "tTMZ2zyOuPb1",
    "outputId": "2ea5ef10-5937-47df-af81-7a97fc499428"
   },
   "outputs": [
    {
     "name": "stdout",
     "output_type": "stream",
     "text": [
      "hate\n"
     ]
    }
   ],
   "source": [
    "# Örnek metinleri sınıflandırma\n",
    "text = \"I disgust you\"\n",
    "# Metinleri TF-IDF vektörlerine dönüştürme\n",
    "text_vector = loaded_tfidf_vectorizer.transform([text])\n",
    "# Metinleri sınıflandırma\n",
    "sentiment = loaded_model.predict(text_vector)[0]\n",
    "print(sentiment)"
   ]
  }
 ],
 "metadata": {
  "colab": {
   "authorship_tag": "ABX9TyPOAEfgjVhXw9YdOTcFW2fM",
   "provenance": []
  },
  "kernelspec": {
   "display_name": "Python 3",
   "name": "python3"
  },
  "language_info": {
   "name": "python"
  }
 },
 "nbformat": 4,
 "nbformat_minor": 0
}
